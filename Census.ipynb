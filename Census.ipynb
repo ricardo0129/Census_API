{
 "cells": [
  {
   "cell_type": "code",
   "execution_count": 48,
   "id": "ca4ad8e9",
   "metadata": {},
   "outputs": [],
   "source": [
    "import requests\n",
    "import pandas as pd\n",
    "\n",
    "def saveFile(outfile,popdata,format):\n",
    "    df = pd.DataFrame(popdata)\n",
    "    if format=='csv':\n",
    "        df.to_csv(outfile, sep=',', index=False, header=False)\n",
    "    else:\n",
    "        df.to_excel(outfile)\n",
    "\n",
    "\n",
    "def query(base_url = '',scope='state',scope_value='*',state=None,outfile=None,format='csv',cols=None):\n",
    "    #keyfile='census_key.txt' key not needed unless you reach daily limit\n",
    "    #with open(keyfile) as key:\n",
    "    #    api_key=key.read().strip()\n",
    "\n",
    "    data_url = f'{base_url}?get={cols}&for={scope}:{scope_value}'\n",
    "\n",
    "    if state:\n",
    "        data_url+=f'&in=state:{state}'\n",
    "\n",
    "    #data_url+=f'&key={api_key}'\n",
    "#https://api.census.gov/data/1989/cbp?get=GEO_TTL,SIC_TTL,EMP,ESTAB&for=state:*\n",
    "    print(data_url)\n",
    "    response=requests.get(data_url)\n",
    "    popdata=response.json()\n",
    "\n",
    "    for records in popdata:\n",
    "        print(records)\n",
    "\n",
    "    if outfile:\n",
    "        saveFile(outfile,popdata,format)\n"
   ]
  },
  {
   "cell_type": "code",
   "execution_count": 49,
   "id": "24734e91",
   "metadata": {},
   "outputs": [
    {
     "name": "stdout",
     "output_type": "stream",
     "text": [
      "http://api.census.gov/data/1986/cbp?get=GEO_TTL,SIC_TTL,EMP,ESTAB&for=us:*\n",
      "['GEO_TTL', 'SIC_TTL', 'EMP', 'ESTAB', 'us']\n",
      "['United States', 'Total', '83380465', '5806973', '00']\n"
     ]
    }
   ],
   "source": [
    "#Query a dataset and download data as either csv or excel spread sheet \n",
    "#The dataset url is needed and so are the column names for that data set\n",
    "\n",
    "#This uses the cbp dataset \n",
    "query(base_url = 'http://api.census.gov/data/1986/cbp',scope='us', scope_value='*',cols='GEO_TTL,SIC_TTL,EMP,ESTAB')\n",
    "    \n",
    "#query(base_url = 'http://api.census.gov/data/1986/cbp',scope='state', scope_value='*',cols='GEO_TTL,SIC_TTL,EMP,ESTAB')\n",
    "#Queries employee data from all states\n",
    "\n",
    "#query(base_url = 'http://api.census.gov/data/1986/cbp',scope='state', scope_value='12',cols='GEO_TTL,SIC_TTL,EMP,ESTAB')\n",
    "#Queries employee data from just one state\n",
    "\n",
    "#query(base_url = 'http://api.census.gov/data/1986/cbp',scope='county', scope_value='*',cols='GEO_TTL,SIC_TTL,EMP,ESTAB')\n",
    "#Query all the counties\n",
    "\n",
    "#query(base_url = 'http://api.census.gov/data/1986/cbp',scope='county', scope_value='*', state='12',cols='GEO_TTL,SIC_TTL,EMP,ESTAB')\n",
    "#query the counties just in Florida\n"
   ]
  },
  {
   "cell_type": "code",
   "execution_count": 50,
   "id": "ddb9aaf6",
   "metadata": {},
   "outputs": [
    {
     "name": "stdout",
     "output_type": "stream",
     "text": [
      "http://api.census.gov/data/2019/pep/population?get=NAME,POP,DENSITY&for=us:*\n",
      "['NAME', 'POP', 'DENSITY', 'us']\n",
      "['United States', '328239523', '92.90559287800000', '1']\n"
     ]
    }
   ],
   "source": [
    "#query(base_url = 'http://api.census.gov/data/2019/pep/population',scope='state', scope_value='*',cols='NAME,POP')\n",
    "#To change granularities its the same as before only change is base_url and the cols\n",
    "\n",
    "#query(base_url = 'http://api.census.gov/data/2019/pep/population',scope='county', scope_value='*',cols='NAME,POP,DENSITY')\n",
    "#We can add a column like density \n",
    "\n",
    "query(base_url = 'http://api.census.gov/data/2019/pep/population',scope='us', scope_value='*',cols='NAME,POP,DENSITY')"
   ]
  },
  {
   "cell_type": "code",
   "execution_count": null,
   "id": "e217c720",
   "metadata": {},
   "outputs": [],
   "source": []
  }
 ],
 "metadata": {
  "kernelspec": {
   "display_name": "Python 3 (ipykernel)",
   "language": "python",
   "name": "python3"
  },
  "language_info": {
   "codemirror_mode": {
    "name": "ipython",
    "version": 3
   },
   "file_extension": ".py",
   "mimetype": "text/x-python",
   "name": "python",
   "nbconvert_exporter": "python",
   "pygments_lexer": "ipython3",
   "version": "3.9.15"
  }
 },
 "nbformat": 4,
 "nbformat_minor": 5
}
